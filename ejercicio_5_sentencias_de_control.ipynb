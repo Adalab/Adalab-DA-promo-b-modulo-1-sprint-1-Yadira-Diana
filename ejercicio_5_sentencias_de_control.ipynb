{
 "cells": [
  {
   "cell_type": "code",
   "execution_count": 11,
   "metadata": {},
   "outputs": [
    {
     "name": "stdout",
     "output_type": "stream",
     "text": [
      "La nota es : B\n"
     ]
    }
   ],
   "source": [
    "#EJERCICIO SENTENCIAS DE CONTROL\n",
    "\n",
    "# 1.-En la escuela donde trabajamos tienen el siguiente sistema de notas:\n",
    "#- Below 25 - F\n",
    "#- 25 to 45 - E\n",
    "#- 45 to 50 - D\n",
    "#- 50 to 60 - C\n",
    "#- 60 to 80 - B\n",
    "#- Above 80 - A\n",
    "#El objetivo de este ejercicio es que le preguntéis al usuario por una nota (numérica) y nosotros le devolvamos la nota con la letra que le corresponde.\n",
    "nota=input(\"Ingresa la nota\")\n",
    "nota=int(nota)\n",
    "\n",
    "if nota >=80:\n",
    "    print(\"La nota es : A\")\n",
    "elif nota >=60<=80:\n",
    "    print(\"La nota es : B\")\n",
    "elif nota >=50<=60:\n",
    "    print(\"La nota es : C\")\n",
    "elif nota >=45<=50:\n",
    "    print(\"La nota es : D\")\n",
    "elif nota >=25<=45:\n",
    "    print(\"La nota es : E\")\n",
    "elif nota <=25:\n",
    "    print(\"La nota es : F\")\n"
   ]
  },
  {
   "cell_type": "code",
   "execution_count": 45,
   "metadata": {},
   "outputs": [
    {
     "name": "stdout",
     "output_type": "stream",
     "text": [
      "30\n",
      "50\n",
      "10\n"
     ]
    }
   ],
   "source": [
    "# 2.- Cread tres inputs donde a cada uno de ellos le preguntéis su edad, el objetivo del ejercicio es determinar quien es el más viejo y el más joven. \n",
    "# RESOLVER BUCLE FOR\n",
    "diana= int (input(\"Turno 1: Dime tu edad\"))\n",
    "yadi= int (input(\"Turno 2: Dime tu edad\"))\n",
    "ana= int (input(\"Turno 3: Dime tu edad\"))\n",
    "\n",
    "print(diana)\n",
    "print(yadi)\n",
    "print(ana)\n",
    "\n",
    "\n",
    "\n"
   ]
  },
  {
   "cell_type": "code",
   "execution_count": 47,
   "metadata": {},
   "outputs": [
    {
     "name": "stdout",
     "output_type": "stream",
     "text": [
      "Yadi es la menor\n"
     ]
    }
   ],
   "source": [
    "if diana > ana:\n",
    "    if diana>yadi:\n",
    "        print(\"diana es la mayor\")\n",
    "    else:\n",
    "        print(\"Yadi es la menor\")\n",
    "        \n",
    "\n"
   ]
  },
  {
   "cell_type": "code",
   "execution_count": 30,
   "metadata": {},
   "outputs": [
    {
     "name": "stdout",
     "output_type": "stream",
     "text": [
      "Bienvenido a bordo de 007\n"
     ]
    }
   ],
   "source": [
    "# 3.- Escribid un programa que pregunte el nombre del usuario a través de la función input(). \n",
    "# Si el nombre es \"Bond\" haced que imprima \"Bienvenido a bordo de 007\"En caso contrario haced que imprima \"Buenos días NOMBRE\". \n",
    "# (Reemplace NOMBRE por el nombre del usuario).\n",
    "\n",
    "nombre=input(\"Dime tu nombre\")\n",
    "agente=\"bond\"\n",
    "secreto=\"Bond\"\n",
    "if nombre == agente or nombre == secreto:\n",
    "    print(\"Bienvenido a bordo de 007\")\n",
    "else:\n",
    "    print(\"Buenos días\", nombre)"
   ]
  },
  {
   "cell_type": "code",
   "execution_count": 13,
   "metadata": {},
   "outputs": [
    {
     "name": "stdout",
     "output_type": "stream",
     "text": [
      "Las ciudades con más árboles son: ['Taiwan', 'Japan', 'Russia', 'Canada', 'Bulgaria']\n"
     ]
    }
   ],
   "source": [
    "#4.- arbol es un diccionario que muestra el número de árboles de países por kilómetro cuadrado para países aleatorios con un número considerable de población.\n",
    "# Crea una lista llamada \"masarboles\" que contenga el nombre de los países con más de 20.000 árboles por kilómetro cuadrado.\n",
    "tree = {\"Taiwan\": 69593,\n",
    "        \"Japan\": 49894, \n",
    "        \"Russia\": 41396, \n",
    "        \"Canada\": 36388, \n",
    "        \"Bulgaria\": 24987}\n",
    "arboles=\"20000\"\n",
    "\n",
    "masarboles=[]\n",
    "\n",
    "for k, v in tree.items():\n",
    "        if v >=20000:\n",
    "           masarboles.append(k)\n",
    "           \n",
    "print(\"Las ciudades con más árboles son:\",masarboles)\n",
    "\n",
    "        \n",
    "\n",
    "        \n"
   ]
  },
  {
   "cell_type": "code",
   "execution_count": null,
   "metadata": {},
   "outputs": [],
   "source": [
    "\n",
    "# 5.- Los alumnos de un curso se han dividido en dos grupos A y B de acuerdo al sexo y el nombre.\n",
    "# El grupo A esta formado por las mujeres con un nombre anterior a la M y los hombres con un nombre posterior a la N y el grupo B por el resto. \n",
    "# Escribid un programa que pregunte al usuario su nombre y sexo, y muestre por pantalla el grupo que le corresponde.\n",
    "\n",
    "nombre=input(\"Escribe tu nombre\")\n",
    "sexo= input(\"Escribe tu sexo\")\n",
    "\n",
    "\n"
   ]
  },
  {
   "cell_type": "code",
   "execution_count": 16,
   "metadata": {},
   "outputs": [
    {
     "name": "stdout",
     "output_type": "stream",
     "text": [
      "0\n",
      "1\n",
      "1\n",
      "2\n"
     ]
    }
   ],
   "source": [
    "#6.- MIRA GIT FLOJA!\n",
    "\n",
    "z=0\n",
    "listas=[]\n",
    "while z<3:\n",
    "    if z==0:\n",
    "        listas.append(z)\n",
    "        print(z)\n",
    "        z += 1\n",
    "    elif z==1:\n",
    "        print(z)\n",
    "        listas.append(z)\n",
    "        print(z)\n",
    "        z += 1\n",
    "    else:\n",
    "        print(z)\n",
    "        z += 1"
   ]
  },
  {
   "cell_type": "code",
   "execution_count": null,
   "metadata": {},
   "outputs": [],
   "source": [
    "#EJERCICIO 7 El objetivo de este ejercicio es añadir elementos a una lista utilizando el bucle while:\n",
    "\n",
    "lista_vacia=[]\n",
    "cero=0\n",
    "\n",
    "while len(lista_vacia<4):\n",
    "    "
   ]
  }
 ],
 "metadata": {
  "kernelspec": {
   "display_name": "Python 3.9.7 ('base')",
   "language": "python",
   "name": "python3"
  },
  "language_info": {
   "codemirror_mode": {
    "name": "ipython",
    "version": 3
   },
   "file_extension": ".py",
   "mimetype": "text/x-python",
   "name": "python",
   "nbconvert_exporter": "python",
   "pygments_lexer": "ipython3",
   "version": "3.9.7"
  },
  "orig_nbformat": 4,
  "vscode": {
   "interpreter": {
    "hash": "c077ba4c986d0c674841b1bde68a642c04a6e440695030e9d779c08f2cbfb9f4"
   }
  }
 },
 "nbformat": 4,
 "nbformat_minor": 2
}
