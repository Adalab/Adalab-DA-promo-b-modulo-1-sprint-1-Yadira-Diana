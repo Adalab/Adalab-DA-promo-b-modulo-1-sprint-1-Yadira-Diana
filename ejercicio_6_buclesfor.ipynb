{
 "cells": [
  {
   "cell_type": "code",
   "execution_count": null,
   "metadata": {},
   "outputs": [],
   "source": [
    "#Ejercicio 1: Escribid un programa que pregunte al usuario una cantidad a invertir, el interés anual y el número de años, \n",
    "# y muestre por pantalla el capital obtenido en la inversión cada año que dura la inversión.\n",
    "\n",
    "\n",
    "cantidad=float(input(\"Dime la cantidad a invertir\"))\n",
    "interes=float(input(\"Dime el interés anual\"))\n",
    "años=int(input(\"Dime el número de años\"))\n",
    "total=0\n",
    "\n",
    "for año in range(años):\n",
    "    ganancia=cantidad*interes/100\n",
    "    cantidad+=ganancia\n",
    "    cantidad2=round(cantidad)\n",
    "    print(f\"El capital total del año {año+1} es: {cantidad2}\")\n",
    "    "
   ]
  },
  {
   "cell_type": "code",
   "execution_count": null,
   "metadata": {},
   "outputs": [],
   "source": [
    "#Ejercicio 2:Escribid un programa en el que se pregunte al usuario por una frase y una letra, y muestre por pantalla el número de \n",
    "# veces que aparece la letra en la frase.\n",
    "\n",
    "frase=list(input(\"Escribe una frase\"))\n",
    "letra=input(\"Escribe una letra\")\n",
    "              \n",
    "        \n",
    "print(\"La letra aparece\", frase.count(letra), \"veces\")\n",
    "    \n",
    "    "
   ]
  },
  {
   "cell_type": "code",
   "execution_count": null,
   "metadata": {},
   "outputs": [],
   "source": [
    "#Ejercicio 3:Escribid un programa que nos devuelva la tabla de multiplicar de un número especificado en una función input\n",
    "\n",
    "\n",
    "num_usuario=int(input(\"Dame el número a multiplicar\"))\n",
    "tabla=[1,2,3,4,5,6,7,8,9,10]\n",
    "multi=0\n",
    "\n",
    "for num in tabla:\n",
    "    multi=num_usuario*num\n",
    "    print(f\"La multiplicación de {num_usuario} * {num} = {multi}\")\n",
    "    "
   ]
  },
  {
   "cell_type": "code",
   "execution_count": 25,
   "metadata": {},
   "outputs": [],
   "source": [
    "#Ejercicio 4: Dada la siguinte lista de números: numbers = [12, 75, 150, 180, 145, 525, 50]\n",
    "#Escribid un programa que muestre sólo los números de una lista que cumplan las siguientes condiciones. \n",
    "# El número debe ser divisible entre cinco. \n",
    "# Si el número es mayor que 150, se salta y se pasa al siguiente número.\n",
    "# Si el número es mayor que 500, entonces detenga el bucle\n",
    "\n",
    "numbers = [12, 75, 150, 180, 145, 525, 50]\n",
    "print(numbers)\n",
    "\n",
    "for num in numbers:\n",
    "    if num > 500:\n",
    "        break\n",
    "    elif num >150:\n",
    "        pass\n",
    "    elif num%5==0:\n",
    "        print(num)"
   ]
  },
  {
   "cell_type": "code",
   "execution_count": 1,
   "metadata": {},
   "outputs": [
    {
     "name": "stdout",
     "output_type": "stream",
     "text": [
      "[10, 20, 30, 40, 50]\n",
      "[50, 40, 30, 20, 10]\n"
     ]
    }
   ],
   "source": [
    "#Ejercicio 5:Dada la siguiente lista: list1 = [10, 20, 30, 40, 50] Imprimir la lista en orden inverso\n",
    "\n",
    "#solución sin for\n",
    "list1 = [10, 20, 30, 40, 50]\n",
    "print(list1)\n",
    "list1.sort(reverse=True)\n",
    "print(list1)"
   ]
  },
  {
   "cell_type": "code",
   "execution_count": 35,
   "metadata": {},
   "outputs": [],
   "source": [
    "#Ejercicio 6: Dado el siguiente código  for i in ['1','2','3']: print (i**2)\n",
    "#Usando un try ... except, cread un programa para evitar que nos de un error el código anterior. \n",
    "# En su lugar, si se encuentra un error, deberéis poner el código necesario para que no nos devuelva error. Happy coding\n",
    "\n",
    "\n",
    "for i in ['1','2','3']: \n",
    "    try:\n",
    "        print (i**2)\n",
    "    except:\n",
    "        print(\"no se puede multiplicar un int con un str\")\n",
    "    \n",
    "    "
   ]
  }
 ],
 "metadata": {
  "kernelspec": {
   "display_name": "Python 3.8.9 64-bit",
   "language": "python",
   "name": "python3"
  },
  "language_info": {
   "codemirror_mode": {
    "name": "ipython",
    "version": 3
   },
   "file_extension": ".py",
   "mimetype": "text/x-python",
   "name": "python",
   "nbconvert_exporter": "python",
   "pygments_lexer": "ipython3",
   "version": "3.10.4"
  },
  "orig_nbformat": 4,
  "vscode": {
   "interpreter": {
    "hash": "31f2aee4e71d21fbe5cf8b01ff0e069b9275f58929596ceb00d14d90e3e16cd6"
   }
  }
 },
 "nbformat": 4,
 "nbformat_minor": 2
}
