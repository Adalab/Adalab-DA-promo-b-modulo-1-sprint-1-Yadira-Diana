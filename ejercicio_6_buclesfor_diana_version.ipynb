{
 "cells": [
  {
   "cell_type": "code",
   "execution_count": 4,
   "metadata": {},
   "outputs": [
    {
     "name": "stdout",
     "output_type": "stream",
     "text": [
      "Dinero 51.5 en el año 1\n",
      "Dinero 53.045 en el año 2\n",
      "Dinero 54.63635 en el año 3\n",
      "Dinero 56.2754405 en el año 4\n",
      "Dinero 57.963703715 en el año 5\n",
      "Dinero resultante 57.963703715\n"
     ]
    }
   ],
   "source": [
    "#ejericicio 1\n",
    "# #Escribid un programa que pregunte al usuario una cantidad a invertir, \n",
    "# el interés anual y el número de años, y muestre por pantalla el capital obtenido \n",
    "# en la inversión cada año que dura la inversión.\n",
    "\n",
    "cantidad = int(input(\"Introduce una cantidad a invertid\"))\n",
    "interes = float(input(\"Introduce un interes anual\"))\n",
    "años = int(input(\"Introduce una cantidad de años\"))\n",
    "\n",
    "for i in range(1,años+1):\n",
    "    cantidad = (interes/100 +1) * cantidad\n",
    "    print(f\"Dinero {cantidad} en el año {i}\")\n",
    "\n",
    "print(f\"Dinero total {cantidad}\")\n"
   ]
  },
  {
   "cell_type": "code",
   "execution_count": 14,
   "metadata": {},
   "outputs": [
    {
     "name": "stdout",
     "output_type": "stream",
     "text": [
      "La letra introducida se encuentra 1 veces\n"
     ]
    }
   ],
   "source": [
    "#ejercicio2\n",
    "#Escribid un programa en el que se pregunte al usuario por una frase y una letra, \n",
    "# y muestre por pantalla el número de veces que aparece la letra en la frase.\n",
    "\n",
    "frase=input(\"Coloca una frase\")\n",
    "letra=input(\"coloca una letra \")\n",
    "contador=0\n",
    "\n",
    "for l in frase:\n",
    "    if letra== l:\n",
    "        contador+=1\n",
    "print(f\"La letra introducida se encuentra {contador} veces\")\n"
   ]
  },
  {
   "cell_type": "code",
   "execution_count": 17,
   "metadata": {},
   "outputs": [
    {
     "name": "stdout",
     "output_type": "stream",
     "text": [
      "3 x 1 = 3\n",
      "3 x 2 = 6\n",
      "3 x 3 = 9\n",
      "3 x 4 = 12\n",
      "3 x 5 = 15\n",
      "3 x 6 = 18\n",
      "3 x 7 = 21\n",
      "3 x 8 = 24\n",
      "3 x 9 = 27\n",
      "3 x 10 = 30\n"
     ]
    }
   ],
   "source": [
    "#ejercicio3\n",
    "# Escribid un programa que nos devuelva la tabla de multiplicar de un número especificado en una función input\n",
    "\n",
    "numero= int(input(\"Coloca tu número\"))\n",
    "tabla_multiplicar=[]\n",
    "\n",
    "for m in range(1,11):\n",
    "   print (f\"{numero} x {m} =\" , m * numero)\n",
    "\n"
   ]
  },
  {
   "cell_type": "code",
   "execution_count": 23,
   "metadata": {},
   "outputs": [
    {
     "name": "stdout",
     "output_type": "stream",
     "text": [
      "75\n",
      "145\n"
     ]
    }
   ],
   "source": [
    "#ejercicio 4\n",
    "#Escribid un programa que muestre sólo los números de una lista que cumplan las siguientes condiciones\n",
    "#El número debe ser divisible entre cinco\n",
    "#Si el número es mayor que 150, se salta y se pasa al siguiente número\n",
    "#Si el número es mayor que 500, entonces detenga el bucle\n",
    "\n",
    "numbers = [12, 75, 150, 180, 145, 525, 50]\n",
    "\n",
    "for n in numbers:\n",
    "    if n % 5== 0:#dame el número dividido entre 5 y si no hay un restante (es decir ==0)...\n",
    "        if n < 150:\n",
    "            print(n)\n",
    "        elif n > 500:\n",
    "            break\n",
    "        \n"
   ]
  },
  {
   "cell_type": "code",
   "execution_count": 27,
   "metadata": {},
   "outputs": [
    {
     "name": "stdout",
     "output_type": "stream",
     "text": [
      "[50, 40, 30, 20, 10]\n"
     ]
    }
   ],
   "source": [
    "#ejercicio 5\n",
    "#Dada la siguiente lista:\n",
    "list1 = [10, 20, 30, 40, 50]\n",
    "#Imprimir la lista en orden inverso\n",
    "list1.sort(reverse=True)\n",
    "print(list1)\n"
   ]
  },
  {
   "cell_type": "code",
   "execution_count": 28,
   "metadata": {},
   "outputs": [
    {
     "ename": "TypeError",
     "evalue": "unsupported operand type(s) for ** or pow(): 'str' and 'int'",
     "output_type": "error",
     "traceback": [
      "\u001b[0;31m---------------------------------------------------------------------------\u001b[0m",
      "\u001b[0;31mTypeError\u001b[0m                                 Traceback (most recent call last)",
      "\u001b[1;32m/Users/feliciano/Desktop/ejercicio_6_buclesfor.ipynb Celda 6\u001b[0m in \u001b[0;36m<cell line: 2>\u001b[0;34m()\u001b[0m\n\u001b[1;32m      <a href='vscode-notebook-cell:/Users/feliciano/Desktop/ejercicio_6_buclesfor.ipynb#ch0000020?line=0'>1</a>\u001b[0m \u001b[39m#Dado el siguiente código\u001b[39;00m\n\u001b[1;32m      <a href='vscode-notebook-cell:/Users/feliciano/Desktop/ejercicio_6_buclesfor.ipynb#ch0000020?line=1'>2</a>\u001b[0m \u001b[39mfor\u001b[39;00m i \u001b[39min\u001b[39;00m [\u001b[39m'\u001b[39m\u001b[39m1\u001b[39m\u001b[39m'\u001b[39m,\u001b[39m'\u001b[39m\u001b[39m2\u001b[39m\u001b[39m'\u001b[39m,\u001b[39m'\u001b[39m\u001b[39m3\u001b[39m\u001b[39m'\u001b[39m]:\n\u001b[0;32m----> <a href='vscode-notebook-cell:/Users/feliciano/Desktop/ejercicio_6_buclesfor.ipynb#ch0000020?line=2'>3</a>\u001b[0m     \u001b[39mprint\u001b[39m (i\u001b[39m*\u001b[39;49m\u001b[39m*\u001b[39;49m\u001b[39m2\u001b[39;49m)\n",
      "\u001b[0;31mTypeError\u001b[0m: unsupported operand type(s) for ** or pow(): 'str' and 'int'"
     ]
    }
   ],
   "source": [
    "#ejercicio 6\n",
    "# Dado el siguiente código\n",
    "#Usando un try ... except, cread un programa para evitar que nos de un error el código anterior. \n",
    "#En su lugar, si se encuentra un error, deberéis poner el código necesario para que no nos devuelva error. \n",
    "for i in ['1','2','3']:\n",
    "    print (i**2)"
   ]
  },
  {
   "cell_type": "code",
   "execution_count": 31,
   "metadata": {},
   "outputs": [
    {
     "name": "stdout",
     "output_type": "stream",
     "text": [
      "1\n",
      "4\n",
      "9\n"
     ]
    }
   ],
   "source": [
    "for i in ['1','2','3']:\n",
    "    try: \n",
    "        print (i**2)\n",
    "    except TypeError:\n",
    "        print(int(i)**2)\n",
    "        "
   ]
  }
 ],
 "metadata": {
  "kernelspec": {
   "display_name": "Python 3.8.9 64-bit",
   "language": "python",
   "name": "python3"
  },
  "language_info": {
   "codemirror_mode": {
    "name": "ipython",
    "version": 3
   },
   "file_extension": ".py",
   "mimetype": "text/x-python",
   "name": "python",
   "nbconvert_exporter": "python",
   "pygments_lexer": "ipython3",
   "version": "3.8.9"
  },
  "orig_nbformat": 4,
  "vscode": {
   "interpreter": {
    "hash": "31f2aee4e71d21fbe5cf8b01ff0e069b9275f58929596ceb00d14d90e3e16cd6"
   }
  }
 },
 "nbformat": 4,
 "nbformat_minor": 2
}
