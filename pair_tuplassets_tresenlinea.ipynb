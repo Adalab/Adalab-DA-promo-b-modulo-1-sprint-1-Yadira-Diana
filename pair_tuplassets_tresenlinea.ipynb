{
 "cells": [
  {
   "cell_type": "code",
   "execution_count": 26,
   "metadata": {},
   "outputs": [
    {
     "name": "stdout",
     "output_type": "stream",
     "text": [
      "¡Comenzamos el juego!\n",
      "- | - | -\n",
      "- | - | -\n",
      "- | - | -\n"
     ]
    },
    {
     "ename": "NameError",
     "evalue": "name 'coor' is not defined",
     "output_type": "error",
     "traceback": [
      "\u001b[0;31m---------------------------------------------------------------------------\u001b[0m",
      "\u001b[0;31mNameError\u001b[0m                                 Traceback (most recent call last)",
      "\u001b[1;32m/Users/feliciano/Documents/Adalab/ejercicios-de-adalab/modulo_1_pairprogramming/Adalab-DA-promo-b-modulo-1-sprint-1-Yadira-Diana/pair_tuplassets_tresenlinea.ipynb Celda 1\u001b[0m in \u001b[0;36m<cell line: 21>\u001b[0;34m()\u001b[0m\n\u001b[1;32m     <a href='vscode-notebook-cell:/Users/feliciano/Documents/Adalab/ejercicios-de-adalab/modulo_1_pairprogramming/Adalab-DA-promo-b-modulo-1-sprint-1-Yadira-Diana/pair_tuplassets_tresenlinea.ipynb#ch0000000?line=17'>18</a>\u001b[0m \u001b[39m# Input de la usuaria\u001b[39;00m\n\u001b[1;32m     <a href='vscode-notebook-cell:/Users/feliciano/Documents/Adalab/ejercicios-de-adalab/modulo_1_pairprogramming/Adalab-DA-promo-b-modulo-1-sprint-1-Yadira-Diana/pair_tuplassets_tresenlinea.ipynb#ch0000000?line=18'>19</a>\u001b[0m dato1\u001b[39m=\u001b[39m \u001b[39minput\u001b[39m(\u001b[39m\"\u001b[39m\u001b[39mDame una la fila y la columna de tu turno\u001b[39m\u001b[39m\"\u001b[39m)\n\u001b[0;32m---> <a href='vscode-notebook-cell:/Users/feliciano/Documents/Adalab/ejercicios-de-adalab/modulo_1_pairprogramming/Adalab-DA-promo-b-modulo-1-sprint-1-Yadira-Diana/pair_tuplassets_tresenlinea.ipynb#ch0000000?line=20'>21</a>\u001b[0m coor \u001b[39m=\u001b[39m \u001b[39mtuple\u001b[39m(\u001b[39mint\u001b[39m(num)\u001b[39m-\u001b[39m\u001b[39m1\u001b[39m \u001b[39mfor\u001b[39;00m num \u001b[39min\u001b[39;00m coor\u001b[39m.\u001b[39msplit(\u001b[39m\"\u001b[39m\u001b[39m,\u001b[39m\u001b[39m\"\u001b[39m))\n\u001b[1;32m     <a href='vscode-notebook-cell:/Users/feliciano/Documents/Adalab/ejercicios-de-adalab/modulo_1_pairprogramming/Adalab-DA-promo-b-modulo-1-sprint-1-Yadira-Diana/pair_tuplassets_tresenlinea.ipynb#ch0000000?line=22'>23</a>\u001b[0m \u001b[39m# Actualizar tablero\u001b[39;00m\n\u001b[1;32m     <a href='vscode-notebook-cell:/Users/feliciano/Documents/Adalab/ejercicios-de-adalab/modulo_1_pairprogramming/Adalab-DA-promo-b-modulo-1-sprint-1-Yadira-Diana/pair_tuplassets_tresenlinea.ipynb#ch0000000?line=23'>24</a>\u001b[0m \n\u001b[1;32m     <a href='vscode-notebook-cell:/Users/feliciano/Documents/Adalab/ejercicios-de-adalab/modulo_1_pairprogramming/Adalab-DA-promo-b-modulo-1-sprint-1-Yadira-Diana/pair_tuplassets_tresenlinea.ipynb#ch0000000?line=24'>25</a>\u001b[0m \u001b[39m# Imprimir tablero\u001b[39;00m\n\u001b[1;32m     <a href='vscode-notebook-cell:/Users/feliciano/Documents/Adalab/ejercicios-de-adalab/modulo_1_pairprogramming/Adalab-DA-promo-b-modulo-1-sprint-1-Yadira-Diana/pair_tuplassets_tresenlinea.ipynb#ch0000000?line=25'>26</a>\u001b[0m \n\u001b[1;32m     <a href='vscode-notebook-cell:/Users/feliciano/Documents/Adalab/ejercicios-de-adalab/modulo_1_pairprogramming/Adalab-DA-promo-b-modulo-1-sprint-1-Yadira-Diana/pair_tuplassets_tresenlinea.ipynb#ch0000000?line=26'>27</a>\u001b[0m \u001b[39m# Input del usuario\u001b[39;00m\n\u001b[1;32m     <a href='vscode-notebook-cell:/Users/feliciano/Documents/Adalab/ejercicios-de-adalab/modulo_1_pairprogramming/Adalab-DA-promo-b-modulo-1-sprint-1-Yadira-Diana/pair_tuplassets_tresenlinea.ipynb#ch0000000?line=29'>30</a>\u001b[0m coor \u001b[39m=\u001b[39m \u001b[39mtuple\u001b[39m(\u001b[39mint\u001b[39m(co)\u001b[39m-\u001b[39m\u001b[39m1\u001b[39m \u001b[39mfor\u001b[39;00m co \u001b[39min\u001b[39;00m coor\u001b[39m.\u001b[39msplit(\u001b[39m\"\u001b[39m\u001b[39m,\u001b[39m\u001b[39m\"\u001b[39m))\n",
      "\u001b[0;31mNameError\u001b[0m: name 'coor' is not defined"
     ]
    }
   ],
   "source": [
    "# Variables predefinidas\n",
    "saludo= (\"¡Comenzamos el juego!\")\n",
    "despedida= (\"¡Terminamos el juego!\")\n",
    "\n",
    "# Definir el tablero con todo \"-\"\n",
    "\n",
    "listas_tablero= [['-','-','-'],['-','-','-',],['-','-','-']]\n",
    "\n",
    "tablero= \"- | - | -\\n- | - | -\\n- | - | -\" \n",
    "\n",
    "\n",
    "# Inicio del juego\n",
    "print(saludo)\n",
    "\n",
    "# Imprimir tablero\n",
    "print(tablero)\n",
    "\n",
    "# Input de la usuaria\n",
    "dato1= input(\"Dame una la fila y la columna de tu turno\")\n",
    "\n",
    "coor = tuple(int(num)-1 for num in coor.split(\",\"))\n",
    "\n",
    "# Actualizar tablero\n",
    "\n",
    "# Imprimir tablero\n",
    "\n",
    "# Input del usuario\n",
    "\n",
    "\n",
    "coor = tuple(int(co)-1 for co in coor.split(\",\"))\n",
    "\n",
    "# Actualizar tablero\n",
    "\n",
    "# Imprimir tablero\n",
    "\n",
    "# Convertir los caracteres del board a una sola lista\n",
    "board_list = sum(board,[])\n",
    "\n",
    "# Sacar los elementos únicos que no sean \"-\"\n",
    "\n",
    "# Final del juego"
   ]
  },
  {
   "cell_type": "code",
   "execution_count": 55,
   "metadata": {},
   "outputs": [],
   "source": [
    "tablero1=['-|'+'-|'+'2']\n",
    "tablero2=['-|'+'-|'+'-']\n",
    "tablero3=['-|'+'-|'+'-']\n"
   ]
  },
  {
   "cell_type": "code",
   "execution_count": 51,
   "metadata": {},
   "outputs": [
    {
     "name": "stdout",
     "output_type": "stream",
     "text": [
      "['-|-|2']\n",
      "['-|-|-']\n",
      "['-|-|-']\n"
     ]
    }
   ],
   "source": [
    "print(tablero1)\n",
    "print(tablero2)\n",
    "print(tablero3)"
   ]
  },
  {
   "cell_type": "code",
   "execution_count": 52,
   "metadata": {},
   "outputs": [],
   "source": [
    "tablero_completo= tablero1+tablero2+tablero3"
   ]
  },
  {
   "cell_type": "code",
   "execution_count": 53,
   "metadata": {},
   "outputs": [
    {
     "name": "stdout",
     "output_type": "stream",
     "text": [
      "['-|-|2', '-|-|-', '-|-|-']\n"
     ]
    }
   ],
   "source": [
    "print(tablero_completo)"
   ]
  },
  {
   "cell_type": "code",
   "execution_count": 57,
   "metadata": {},
   "outputs": [
    {
     "name": "stdout",
     "output_type": "stream",
     "text": [
      "-|-|2\n"
     ]
    }
   ],
   "source": [
    "print(tablero1[-1])"
   ]
  }
 ],
 "metadata": {
  "kernelspec": {
   "display_name": "Python 3.8.9 64-bit",
   "language": "python",
   "name": "python3"
  },
  "language_info": {
   "codemirror_mode": {
    "name": "ipython",
    "version": 3
   },
   "file_extension": ".py",
   "mimetype": "text/x-python",
   "name": "python",
   "nbconvert_exporter": "python",
   "pygments_lexer": "ipython3",
   "version": "3.8.9"
  },
  "orig_nbformat": 4,
  "vscode": {
   "interpreter": {
    "hash": "31f2aee4e71d21fbe5cf8b01ff0e069b9275f58929596ceb00d14d90e3e16cd6"
   }
  }
 },
 "nbformat": 4,
 "nbformat_minor": 2
}
