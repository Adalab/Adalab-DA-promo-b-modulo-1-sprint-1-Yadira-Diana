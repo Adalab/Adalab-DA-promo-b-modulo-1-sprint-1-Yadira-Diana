{
 "cells": [
  {
   "cell_type": "code",
   "execution_count": 31,
   "metadata": {},
   "outputs": [
    {
     "name": "stdout",
     "output_type": "stream",
     "text": [
      "Hola, guapa\n",
      "Coloca un número entre el 3 y el 6\n",
      "Intento 1: \n",
      "Terminamos el juego, el número era 5 ¿lo adivinaste?\n",
      "Hola, guapa\n",
      "Coloca un número entre el 3 y el 6\n",
      "Intento 1 : \n",
      "Terminamos el juego, el número era 5 ¿lo adivinaste?\n"
     ]
    }
   ],
   "source": [
    "#Ejercicio 1 de pair programming\n",
    "\n",
    "#Inicio del juego\n",
    "\n",
    "saludo=\"Hola, guapa\"\n",
    "print(saludo)\n",
    "print(\"Coloca un número entre el 3 y el 6\")\n",
    "numero_usuario_1=input(\"Escribe un número entre el 3 y el 6\")\n",
    "print(\"Intento 1:\",numero_usuario_1)\n",
    "print(\"Terminamos el juego, el número era 5 ¿lo adivinaste?\")\n",
    "\n",
    "\n",
    "#bonus\n",
    "\n",
    "\n",
    "\n",
    "#Bonus\n",
    "print(saludo)\n",
    "print(\"Coloca un número entre el 3 y el 6\")\n",
    "intentos=0 #No sé como resolver que vaya aumentando en uno sin un bucle\n",
    "print(\"Intento\",intentos+1,\":\",numero_usuario_1)\n",
    "print(\"Terminamos el juego, el número era 5 ¿lo adivinaste?\")\n",
    "\n",
    "\n",
    "\n",
    "    \n"
   ]
  },
  {
   "cell_type": "code",
   "execution_count": 12,
   "metadata": {},
   "outputs": [
    {
     "name": "stdout",
     "output_type": "stream",
     "text": [
      "Hola, guapa\n",
      "[9, 2, 7]\n",
      "La longitud de la lista es: 3\n",
      "El nùmero máximo de la lista es: 9\n",
      "El nùmero mínimo de la lista es: 2\n"
     ]
    }
   ],
   "source": [
    "\n",
    "#Ejercicio 2 de pair programming\n",
    "\n",
    "# Variables numéricas\n",
    "lim_superior= 9\n",
    "lim_inferior= 1\n",
    "\n",
    "# Cadenas fijas de texto\n",
    "str_input = \"Escribe tres números separados por espacio entre el 1 y  el 9\"\n",
    "saludo= \"Hola, guapa\"\n",
    "\n",
    "# User input\n",
    "num_list = list(int(num) for num in input(str_input).strip().split())\n",
    "\n",
    "# Cantidades calculadas\n",
    "numero_secreto = random.randint(lim_inferior,lim_superior)\n",
    "\n",
    "# Inicio del juego\n",
    "print(saludo)\n",
    "print(num_list)\n",
    "print(\"La longitud de la lista es:\", len(num_list),)\n",
    "print(\"El nùmero máximo de la lista es:\", max(num_list))\n",
    "print(\"El nùmero mínimo de la lista es:\", min(num_list))\n",
    "\n",
    "\n",
    "# Fin del juego"
   ]
  },
  {
   "cell_type": "code",
   "execution_count": 6,
   "metadata": {},
   "outputs": [
    {
     "ename": "TypeError",
     "evalue": "can only concatenate list (not \"int\") to list",
     "output_type": "error",
     "traceback": [
      "\u001b[0;31m---------------------------------------------------------------------------\u001b[0m",
      "\u001b[0;31mTypeError\u001b[0m                                 Traceback (most recent call last)",
      "\u001b[1;32m/home/yadi/Documentos/adalab/Modulo 1/Adalab-DA-promo-b-modulo-1-sprint-1-Yadira-Diana/pairprogramming_1.ipynb Celda 3\u001b[0m in \u001b[0;36m<cell line: 19>\u001b[0;34m()\u001b[0m\n\u001b[1;32m     <a href='vscode-notebook-cell:/home/yadi/Documentos/adalab/Modulo%201/Adalab-DA-promo-b-modulo-1-sprint-1-Yadira-Diana/pairprogramming_1.ipynb#ch0000002?line=14'>15</a>\u001b[0m \u001b[39m#Falta definir la variable indice\u001b[39;00m\n\u001b[1;32m     <a href='vscode-notebook-cell:/home/yadi/Documentos/adalab/Modulo%201/Adalab-DA-promo-b-modulo-1-sprint-1-Yadira-Diana/pairprogramming_1.ipynb#ch0000002?line=15'>16</a>\u001b[0m \n\u001b[1;32m     <a href='vscode-notebook-cell:/home/yadi/Documentos/adalab/Modulo%201/Adalab-DA-promo-b-modulo-1-sprint-1-Yadira-Diana/pairprogramming_1.ipynb#ch0000002?line=16'>17</a>\u001b[0m \u001b[39m# User input\u001b[39;00m\n\u001b[1;32m     <a href='vscode-notebook-cell:/home/yadi/Documentos/adalab/Modulo%201/Adalab-DA-promo-b-modulo-1-sprint-1-Yadira-Diana/pairprogramming_1.ipynb#ch0000002?line=17'>18</a>\u001b[0m indice \u001b[39m=\u001b[39m \u001b[39mlist\u001b[39m(\u001b[39mint\u001b[39m(num) \u001b[39mfor\u001b[39;00m num \u001b[39min\u001b[39;00m \u001b[39minput\u001b[39m(intento)\u001b[39m.\u001b[39mstrip()\u001b[39m.\u001b[39msplit())\n\u001b[0;32m---> <a href='vscode-notebook-cell:/home/yadi/Documentos/adalab/Modulo%201/Adalab-DA-promo-b-modulo-1-sprint-1-Yadira-Diana/pairprogramming_1.ipynb#ch0000002?line=18'>19</a>\u001b[0m indice_humano\u001b[39m=\u001b[39m indice\u001b[39m+\u001b[39;49m\u001b[39m1\u001b[39;49m\n\u001b[1;32m     <a href='vscode-notebook-cell:/home/yadi/Documentos/adalab/Modulo%201/Adalab-DA-promo-b-modulo-1-sprint-1-Yadira-Diana/pairprogramming_1.ipynb#ch0000002?line=20'>21</a>\u001b[0m \u001b[39m# Cantidades calculadas\u001b[39;00m\n\u001b[1;32m     <a href='vscode-notebook-cell:/home/yadi/Documentos/adalab/Modulo%201/Adalab-DA-promo-b-modulo-1-sprint-1-Yadira-Diana/pairprogramming_1.ipynb#ch0000002?line=21'>22</a>\u001b[0m num_list \u001b[39m=\u001b[39m random\u001b[39m.\u001b[39msample(\u001b[39mrange\u001b[39m(lim_inferior, lim_superior), longitud_lista)\n",
      "\u001b[0;31mTypeError\u001b[0m: can only concatenate list (not \"int\") to list"
     ]
    }
   ],
   "source": [
    "# Ejercicio 3  de pair programming\n",
    "\n",
    "import random\n",
    "\n",
    "# Variables numéricas\n",
    "index = -1\n",
    "lim_inferior= 0\n",
    "lim_superior= 20\n",
    "longitud_lista= 6\n",
    "\n",
    "\n",
    "# Cadenas fijas de texto\n",
    "saludo= \"Hola, guapa\"\n",
    "intento=\"La lista aleatoria tiene 15 números entre el 0 a 20\"\n",
    "#Falta definir la variable indice\n",
    "\n",
    "# User input\n",
    "indice = list(int(num) for num in input(intento).strip().split())\n",
    "#indice_humano= indice+1\n",
    "\n",
    "# Cantidades calculadas\n",
    "num_list = random.sample(range(lim_inferior, lim_superior), longitud_lista)\n",
    "\n",
    "# Inicio del juego\n",
    "print(saludo)\n",
    "print(intento)\n",
    "print(\"El usuario adivinó:\", indice)\n",
    "\n",
    "\n",
    "\n",
    "# Propiedades de la lista aleatoria\n",
    "print(\"El nùmero máximo de la lista es:\", max(num_list))\n",
    "print(\"El nùmero mínimo de la lista es:\", min(num_list))\n",
    "\n",
    "# Han adivinado un elemento?\n",
    "print(\"¿Estaba en la lista aleatoria? \",num_list == indice)\n",
    "\n",
    "\n",
    "# Si adivinaron uno, dónde estaba?\n",
    "if num_list.count(indice): index = indice\n",
    "if index >= 0: print(\"Estaba en el sitio\", indice_humano + \", índice\", str(index)+\".\")\n",
    "\n",
    "# Fin del juego\n",
    "print(\"Terminamos el juego, la lista era:\", num_list)"
   ]
  },
  {
   "cell_type": "code",
   "execution_count": 57,
   "metadata": {},
   "outputs": [
    {
     "name": "stdout",
     "output_type": "stream",
     "text": [
      "Hola, guapa\n",
      "Escribe un número entre el 3 y el 6\n",
      "Intento 1: 4\n",
      "acertaste!\n",
      "Intentos: 0\n",
      "Terminamos el juego, el número era 4 ¿lo adivinaste?\n"
     ]
    }
   ],
   "source": [
    "import math\n",
    "import random\n",
    "\n",
    "# Variables numéricas\n",
    "lim_superior= 6\n",
    "lim_inferior= 3\n",
    "contador= 0\n",
    "\n",
    "# Cadenas fijas de texto\n",
    "saludo= \"Hola, guapa\"\n",
    "win= \"acertaste!\"\n",
    "fail= \"fallaste :(\"\n",
    "pregunta= \"Escribe un número entre el 3 y el 6\"\n",
    "\n",
    "# User input\n",
    "\n",
    "# Cantidades calculadas\n",
    "#intentos_permitidos = round(math.log(lim_superior - lim_inferior + 1,2))\n",
    "numero_secreto = str(random.randint(lim_inferior,lim_superior))\n",
    "\n",
    "# Inicio del juego\n",
    "print(saludo)\n",
    "print(pregunta)\n",
    "# Adivinar 1 intento\n",
    "numero_usuario_1=input(pregunta)\n",
    "print(\"Intento 1:\",numero_usuario_1)\n",
    "\n",
    "if numero_usuario_1==numero_secreto:\n",
    "    print(win)\n",
    "    print(\"Intentos:\",contador)\n",
    "else :\n",
    "    contador=contador+1\n",
    "    print(\"Tienes un intento más\")\n",
    "    print(pregunta)\n",
    "    numero_usuario_1=input(pregunta)\n",
    "    if numero_usuario_1==numero_secreto:\n",
    "        print(win)\n",
    "        print(\"Intentos:\",contador)\n",
    "    else:\n",
    "        print(\"Intentos:\",contador)\n",
    "        print(fail)\n",
    "\n",
    "# Fin del juego\n",
    "print(\"Terminamos el juego, el número era \"+numero_secreto+\" ¿lo adivinaste?\")"
   ]
  }
 ],
 "metadata": {
  "kernelspec": {
   "display_name": "Python 3.8.9 64-bit",
   "language": "python",
   "name": "python3"
  },
  "language_info": {
   "codemirror_mode": {
    "name": "ipython",
    "version": 3
   },
   "file_extension": ".py",
   "mimetype": "text/x-python",
   "name": "python",
   "nbconvert_exporter": "python",
   "pygments_lexer": "ipython3",
   "version": "3.10.4"
  },
  "orig_nbformat": 4,
  "vscode": {
   "interpreter": {
    "hash": "31f2aee4e71d21fbe5cf8b01ff0e069b9275f58929596ceb00d14d90e3e16cd6"
   }
  }
 },
 "nbformat": 4,
 "nbformat_minor": 2
}
