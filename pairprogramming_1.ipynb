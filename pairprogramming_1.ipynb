{
 "cells": [
  {
   "cell_type": "code",
   "execution_count": 31,
   "metadata": {},
   "outputs": [
    {
     "name": "stdout",
     "output_type": "stream",
     "text": [
      "Hola, guapa\n",
      "Coloca un número entre el 3 y el 6\n",
      "Intento 1: \n",
      "Terminamos el juego, el número era 5 ¿lo adivinaste?\n",
      "Hola, guapa\n",
      "Coloca un número entre el 3 y el 6\n",
      "Intento 1 : \n",
      "Terminamos el juego, el número era 5 ¿lo adivinaste?\n"
     ]
    }
   ],
   "source": [
    "#Ejercicio 1 de pair programming\n",
    "\n",
    "#Inicio del juego\n",
    "\n",
    "saludo=\"Hola, guapa\"\n",
    "print(saludo)\n",
    "print(\"Coloca un número entre el 3 y el 6\")\n",
    "numero_usuario_1=input(\"Escribe un número entre el 3 y el 6\")\n",
    "print(\"Intento 1:\",numero_usuario_1)\n",
    "print(\"Terminamos el juego, el número era 5 ¿lo adivinaste?\")\n",
    "\n",
    "\n",
    "#bonus\n",
    "\n",
    "\n",
    "\n",
    "#Bonus\n",
    "print(saludo)\n",
    "print(\"Coloca un número entre el 3 y el 6\")\n",
    "intentos=0 #No sé como resolver que vaya aumentando en uno sin un bucle\n",
    "print(\"Intento\",intentos+1,\":\",numero_usuario_1)\n",
    "print(\"Terminamos el juego, el número era 5 ¿lo adivinaste?\")\n",
    "\n",
    "\n",
    "\n",
    "    \n"
   ]
  },
  {
   "cell_type": "code",
   "execution_count": 12,
   "metadata": {},
   "outputs": [
    {
     "name": "stdout",
     "output_type": "stream",
     "text": [
      "Hola, guapa\n",
      "[9, 2, 7]\n",
      "La longitud de la lista es: 3\n",
      "El nùmero máximo de la lista es: 9\n",
      "El nùmero mínimo de la lista es: 2\n"
     ]
    }
   ],
   "source": [
    "\n",
    "#Ejercicio 2 de pair programming\n",
    "\n",
    "# Variables numéricas\n",
    "lim_superior= 9\n",
    "lim_inferior= 1\n",
    "\n",
    "# Cadenas fijas de texto\n",
    "str_input = \"Escribe tres números separados por espacio entre el 1 y  el 9\"\n",
    "saludo= \"Hola, guapa\"\n",
    "\n",
    "# User input\n",
    "num_list = list(int(num) for num in input(str_input).strip().split())\n",
    "\n",
    "# Cantidades calculadas\n",
    "numero_secreto = random.randint(lim_inferior,lim_superior)\n",
    "\n",
    "# Inicio del juego\n",
    "print(saludo)\n",
    "print(num_list)\n",
    "print(\"La longitud de la lista es:\", len(num_list),)\n",
    "print(\"El nùmero máximo de la lista es:\", max(num_list))\n",
    "print(\"El nùmero mínimo de la lista es:\", min(num_list))\n",
    "\n",
    "\n",
    "# Fin del juego"
   ]
  },
  {
   "cell_type": "code",
   "execution_count": 57,
   "metadata": {},
   "outputs": [
    {
     "name": "stdout",
     "output_type": "stream",
     "text": [
      "Hola, guapa\n",
      "Escribe un número entre el 3 y el 6\n",
      "Intento 1: 4\n",
      "acertaste!\n",
      "Intentos: 0\n",
      "Terminamos el juego, el número era 4 ¿lo adivinaste?\n"
     ]
    }
   ],
   "source": [
    "import math\n",
    "import random\n",
    "\n",
    "# Variables numéricas\n",
    "lim_superior= 6\n",
    "lim_inferior= 3\n",
    "contador= 0\n",
    "\n",
    "# Cadenas fijas de texto\n",
    "saludo= \"Hola, guapa\"\n",
    "win= \"acertaste!\"\n",
    "fail= \"fallaste :(\"\n",
    "pregunta= \"Escribe un número entre el 3 y el 6\"\n",
    "\n",
    "# User input\n",
    "\n",
    "# Cantidades calculadas\n",
    "#intentos_permitidos = round(math.log(lim_superior - lim_inferior + 1,2))\n",
    "numero_secreto = str(random.randint(lim_inferior,lim_superior))\n",
    "\n",
    "# Inicio del juego\n",
    "print(saludo)\n",
    "print(pregunta)\n",
    "# Adivinar 1 intento\n",
    "numero_usuario_1=input(pregunta)\n",
    "print(\"Intento 1:\",numero_usuario_1)\n",
    "\n",
    "if numero_usuario_1==numero_secreto:\n",
    "    print(win)\n",
    "    print(\"Intentos:\",contador)\n",
    "else :\n",
    "    contador=contador+1\n",
    "    print(\"Tienes un intento más\")\n",
    "    print(pregunta)\n",
    "    numero_usuario_1=input(pregunta)\n",
    "    if numero_usuario_1==numero_secreto:\n",
    "        print(win)\n",
    "        print(\"Intentos:\",contador)\n",
    "    else:\n",
    "        print(\"Intentos:\",contador)\n",
    "        print(fail)\n",
    "\n",
    "# Fin del juego\n",
    "print(\"Terminamos el juego, el número era \"+numero_secreto+\" ¿lo adivinaste?\")"
   ]
  }
 ],
 "metadata": {
  "kernelspec": {
   "display_name": "Python 3.8.9 64-bit",
   "language": "python",
   "name": "python3"
  },
  "language_info": {
   "codemirror_mode": {
    "name": "ipython",
    "version": 3
   },
   "file_extension": ".py",
   "mimetype": "text/x-python",
   "name": "python",
   "nbconvert_exporter": "python",
   "pygments_lexer": "ipython3",
   "version": "3.10.4"
  },
  "orig_nbformat": 4,
  "vscode": {
   "interpreter": {
    "hash": "31f2aee4e71d21fbe5cf8b01ff0e069b9275f58929596ceb00d14d90e3e16cd6"
   }
  }
 },
 "nbformat": 4,
 "nbformat_minor": 2
}
