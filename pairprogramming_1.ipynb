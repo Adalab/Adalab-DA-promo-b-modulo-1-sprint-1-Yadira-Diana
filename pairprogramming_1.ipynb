{
 "cells": [
  {
   "cell_type": "code",
   "execution_count": 34,
   "metadata": {},
   "outputs": [
    {
     "name": "stdout",
     "output_type": "stream",
     "text": [
      "Hola, guapa\n",
      "Coloca un número entre el 3 y el 6\n",
      "Intento 1: 4\n",
      "Terminamos el juego, el número era 5 ¿lo adivinaste?\n",
      "Hola, guapa\n",
      "Coloca un número entre el 3 y el 6\n",
      "Intento 1 : 4\n",
      "Terminamos el juego, el número era 5 ¿lo adivinaste?\n"
     ]
    }
   ],
   "source": [
    "#Inicio del juego\n",
    "\n",
    "saludo=\"Hola, guapa\"\n",
    "print(saludo)\n",
    "print(\"Coloca un número entre el 3 y el 6\")\n",
    "numero_usuario_1=input(\"Escribe un número entre el 3 y el 6\")\n",
    "print(\"Intento 1:\",numero_usuario_1)\n",
    "print(\"Terminamos el juego, el número era 5 ¿lo adivinaste?\")\n",
    "\n",
    "\n",
    "\n",
    "\n",
    "#Bonus\n",
    "print(saludo)\n",
    "print(\"Coloca un número entre el 3 y el 6\")\n",
    "intentos=0 #No sé como resolver que vaya aumentando en uno sin un bucle\n",
    "print(\"Intento\",intentos+1,\":\",numero_usuario_1)\n",
    "print(\"Terminamos el juego, el número era 5 ¿lo adivinaste?\")\n",
    "\n",
    "\n",
    "\n",
    "\n",
    "\n"
   ]
  }
 ],
 "metadata": {
  "kernelspec": {
   "display_name": "Python 3.8.9 64-bit",
   "language": "python",
   "name": "python3"
  },
  "language_info": {
   "codemirror_mode": {
    "name": "ipython",
    "version": 3
   },
   "file_extension": ".py",
   "mimetype": "text/x-python",
   "name": "python",
   "nbconvert_exporter": "python",
   "pygments_lexer": "ipython3",
   "version": "3.10.4"
  },
  "orig_nbformat": 4,
  "vscode": {
   "interpreter": {
    "hash": "31f2aee4e71d21fbe5cf8b01ff0e069b9275f58929596ceb00d14d90e3e16cd6"
   }
  }
 },
 "nbformat": 4,
 "nbformat_minor": 2
}
